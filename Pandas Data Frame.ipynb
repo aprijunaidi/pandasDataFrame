{
 "cells": [
  {
   "cell_type": "markdown",
   "metadata": {},
   "source": [
    "# Latihan Pandas Data Frame\n",
    "\n",
    "Untuk mahasiswa data science intitut Teknologi Telkom Purwokerto\n",
    "tanggal 4 April 2021"
   ]
  },
  {
   "cell_type": "code",
   "execution_count": 1,
   "metadata": {},
   "outputs": [],
   "source": [
    "# import semua library yang diperlukan"
   ]
  },
  {
   "cell_type": "code",
   "execution_count": 2,
   "metadata": {},
   "outputs": [],
   "source": [
    "# Pandas\n",
    "import pandas as pd"
   ]
  },
  {
   "cell_type": "code",
   "execution_count": 3,
   "metadata": {},
   "outputs": [],
   "source": [
    "barang = {'Nama Barang' : ['Buku Tulis','Pena','Penggaris','Printer'], 'Harga Satuan' : [25000,700,2500,12000]}"
   ]
  },
  {
   "cell_type": "code",
   "execution_count": 4,
   "metadata": {},
   "outputs": [],
   "source": [
    "# buat data frame "
   ]
  },
  {
   "cell_type": "code",
   "execution_count": 5,
   "metadata": {},
   "outputs": [],
   "source": [
    "df = pd.DataFrame(barang, columns=['Nama Barang','Harga Satuan'])"
   ]
  },
  {
   "cell_type": "code",
   "execution_count": 6,
   "metadata": {},
   "outputs": [],
   "source": [
    "# panggil dataframe"
   ]
  },
  {
   "cell_type": "code",
   "execution_count": 7,
   "metadata": {},
   "outputs": [
    {
     "data": {
      "text/html": [
       "<div>\n",
       "<style scoped>\n",
       "    .dataframe tbody tr th:only-of-type {\n",
       "        vertical-align: middle;\n",
       "    }\n",
       "\n",
       "    .dataframe tbody tr th {\n",
       "        vertical-align: top;\n",
       "    }\n",
       "\n",
       "    .dataframe thead th {\n",
       "        text-align: right;\n",
       "    }\n",
       "</style>\n",
       "<table border=\"1\" class=\"dataframe\">\n",
       "  <thead>\n",
       "    <tr style=\"text-align: right;\">\n",
       "      <th></th>\n",
       "      <th>Nama Barang</th>\n",
       "      <th>Harga Satuan</th>\n",
       "    </tr>\n",
       "  </thead>\n",
       "  <tbody>\n",
       "    <tr>\n",
       "      <th>0</th>\n",
       "      <td>Buku Tulis</td>\n",
       "      <td>25000</td>\n",
       "    </tr>\n",
       "    <tr>\n",
       "      <th>1</th>\n",
       "      <td>Pena</td>\n",
       "      <td>700</td>\n",
       "    </tr>\n",
       "    <tr>\n",
       "      <th>2</th>\n",
       "      <td>Penggaris</td>\n",
       "      <td>2500</td>\n",
       "    </tr>\n",
       "    <tr>\n",
       "      <th>3</th>\n",
       "      <td>Printer</td>\n",
       "      <td>12000</td>\n",
       "    </tr>\n",
       "  </tbody>\n",
       "</table>\n",
       "</div>"
      ],
      "text/plain": [
       "  Nama Barang  Harga Satuan\n",
       "0  Buku Tulis         25000\n",
       "1        Pena           700\n",
       "2   Penggaris          2500\n",
       "3     Printer         12000"
      ]
     },
     "execution_count": 7,
     "metadata": {},
     "output_type": "execute_result"
    }
   ],
   "source": [
    "df"
   ]
  },
  {
   "cell_type": "code",
   "execution_count": 8,
   "metadata": {},
   "outputs": [],
   "source": [
    "#insert kolom"
   ]
  },
  {
   "cell_type": "code",
   "execution_count": 9,
   "metadata": {},
   "outputs": [],
   "source": [
    "df.insert(2,'Jumlah Barang',[100,200,300,400])"
   ]
  },
  {
   "cell_type": "code",
   "execution_count": 10,
   "metadata": {},
   "outputs": [],
   "source": [
    "#tampilkun update insert"
   ]
  },
  {
   "cell_type": "code",
   "execution_count": 11,
   "metadata": {},
   "outputs": [
    {
     "data": {
      "text/html": [
       "<div>\n",
       "<style scoped>\n",
       "    .dataframe tbody tr th:only-of-type {\n",
       "        vertical-align: middle;\n",
       "    }\n",
       "\n",
       "    .dataframe tbody tr th {\n",
       "        vertical-align: top;\n",
       "    }\n",
       "\n",
       "    .dataframe thead th {\n",
       "        text-align: right;\n",
       "    }\n",
       "</style>\n",
       "<table border=\"1\" class=\"dataframe\">\n",
       "  <thead>\n",
       "    <tr style=\"text-align: right;\">\n",
       "      <th></th>\n",
       "      <th>Nama Barang</th>\n",
       "      <th>Harga Satuan</th>\n",
       "      <th>Jumlah Barang</th>\n",
       "    </tr>\n",
       "  </thead>\n",
       "  <tbody>\n",
       "    <tr>\n",
       "      <th>0</th>\n",
       "      <td>Buku Tulis</td>\n",
       "      <td>25000</td>\n",
       "      <td>100</td>\n",
       "    </tr>\n",
       "    <tr>\n",
       "      <th>1</th>\n",
       "      <td>Pena</td>\n",
       "      <td>700</td>\n",
       "      <td>200</td>\n",
       "    </tr>\n",
       "    <tr>\n",
       "      <th>2</th>\n",
       "      <td>Penggaris</td>\n",
       "      <td>2500</td>\n",
       "      <td>300</td>\n",
       "    </tr>\n",
       "    <tr>\n",
       "      <th>3</th>\n",
       "      <td>Printer</td>\n",
       "      <td>12000</td>\n",
       "      <td>400</td>\n",
       "    </tr>\n",
       "  </tbody>\n",
       "</table>\n",
       "</div>"
      ],
      "text/plain": [
       "  Nama Barang  Harga Satuan  Jumlah Barang\n",
       "0  Buku Tulis         25000            100\n",
       "1        Pena           700            200\n",
       "2   Penggaris          2500            300\n",
       "3     Printer         12000            400"
      ]
     },
     "execution_count": 11,
     "metadata": {},
     "output_type": "execute_result"
    }
   ],
   "source": [
    "df"
   ]
  },
  {
   "cell_type": "code",
   "execution_count": 13,
   "metadata": {},
   "outputs": [],
   "source": [
    "# menambahkan kolom baru \n",
    "df['Total Harga'] = df['Harga Satuan'] * df['Jumlah Barang']"
   ]
  },
  {
   "cell_type": "code",
   "execution_count": 14,
   "metadata": {},
   "outputs": [],
   "source": [
    "# tampilkan data baru"
   ]
  },
  {
   "cell_type": "code",
   "execution_count": 18,
   "metadata": {},
   "outputs": [
    {
     "data": {
      "text/html": [
       "<div>\n",
       "<style scoped>\n",
       "    .dataframe tbody tr th:only-of-type {\n",
       "        vertical-align: middle;\n",
       "    }\n",
       "\n",
       "    .dataframe tbody tr th {\n",
       "        vertical-align: top;\n",
       "    }\n",
       "\n",
       "    .dataframe thead th {\n",
       "        text-align: right;\n",
       "    }\n",
       "</style>\n",
       "<table border=\"1\" class=\"dataframe\">\n",
       "  <thead>\n",
       "    <tr style=\"text-align: right;\">\n",
       "      <th></th>\n",
       "      <th>Nama Barang</th>\n",
       "      <th>Harga Satuan</th>\n",
       "      <th>Jumlah Barang</th>\n",
       "      <th>Total Harga</th>\n",
       "    </tr>\n",
       "  </thead>\n",
       "  <tbody>\n",
       "    <tr>\n",
       "      <th>0</th>\n",
       "      <td>Buku Tulis</td>\n",
       "      <td>25000</td>\n",
       "      <td>100</td>\n",
       "      <td>2500000</td>\n",
       "    </tr>\n",
       "    <tr>\n",
       "      <th>1</th>\n",
       "      <td>Pena</td>\n",
       "      <td>700</td>\n",
       "      <td>200</td>\n",
       "      <td>140000</td>\n",
       "    </tr>\n",
       "    <tr>\n",
       "      <th>2</th>\n",
       "      <td>Penggaris</td>\n",
       "      <td>2500</td>\n",
       "      <td>300</td>\n",
       "      <td>750000</td>\n",
       "    </tr>\n",
       "    <tr>\n",
       "      <th>3</th>\n",
       "      <td>Printer</td>\n",
       "      <td>12000</td>\n",
       "      <td>400</td>\n",
       "      <td>4800000</td>\n",
       "    </tr>\n",
       "  </tbody>\n",
       "</table>\n",
       "</div>"
      ],
      "text/plain": [
       "  Nama Barang  Harga Satuan  Jumlah Barang  Total Harga\n",
       "0  Buku Tulis         25000            100      2500000\n",
       "1        Pena           700            200       140000\n",
       "2   Penggaris          2500            300       750000\n",
       "3     Printer         12000            400      4800000"
      ]
     },
     "execution_count": 18,
     "metadata": {},
     "output_type": "execute_result"
    }
   ],
   "source": [
    "df"
   ]
  },
  {
   "cell_type": "code",
   "execution_count": 19,
   "metadata": {},
   "outputs": [],
   "source": [
    "# menambahkan kolom discount 10 % "
   ]
  },
  {
   "cell_type": "code",
   "execution_count": 20,
   "metadata": {},
   "outputs": [],
   "source": [
    "df['Discount 10%'] = df['Total Harga'] * 10/100"
   ]
  },
  {
   "cell_type": "code",
   "execution_count": 22,
   "metadata": {},
   "outputs": [
    {
     "data": {
      "text/html": [
       "<div>\n",
       "<style scoped>\n",
       "    .dataframe tbody tr th:only-of-type {\n",
       "        vertical-align: middle;\n",
       "    }\n",
       "\n",
       "    .dataframe tbody tr th {\n",
       "        vertical-align: top;\n",
       "    }\n",
       "\n",
       "    .dataframe thead th {\n",
       "        text-align: right;\n",
       "    }\n",
       "</style>\n",
       "<table border=\"1\" class=\"dataframe\">\n",
       "  <thead>\n",
       "    <tr style=\"text-align: right;\">\n",
       "      <th></th>\n",
       "      <th>Nama Barang</th>\n",
       "      <th>Harga Satuan</th>\n",
       "      <th>Jumlah Barang</th>\n",
       "      <th>Total Harga</th>\n",
       "      <th>Discount 10%</th>\n",
       "    </tr>\n",
       "  </thead>\n",
       "  <tbody>\n",
       "    <tr>\n",
       "      <th>0</th>\n",
       "      <td>Buku Tulis</td>\n",
       "      <td>25000</td>\n",
       "      <td>100</td>\n",
       "      <td>2500000</td>\n",
       "      <td>250000.0</td>\n",
       "    </tr>\n",
       "    <tr>\n",
       "      <th>1</th>\n",
       "      <td>Pena</td>\n",
       "      <td>700</td>\n",
       "      <td>200</td>\n",
       "      <td>140000</td>\n",
       "      <td>14000.0</td>\n",
       "    </tr>\n",
       "    <tr>\n",
       "      <th>2</th>\n",
       "      <td>Penggaris</td>\n",
       "      <td>2500</td>\n",
       "      <td>300</td>\n",
       "      <td>750000</td>\n",
       "      <td>75000.0</td>\n",
       "    </tr>\n",
       "    <tr>\n",
       "      <th>3</th>\n",
       "      <td>Printer</td>\n",
       "      <td>12000</td>\n",
       "      <td>400</td>\n",
       "      <td>4800000</td>\n",
       "      <td>480000.0</td>\n",
       "    </tr>\n",
       "  </tbody>\n",
       "</table>\n",
       "</div>"
      ],
      "text/plain": [
       "  Nama Barang  Harga Satuan  Jumlah Barang  Total Harga  Discount 10%\n",
       "0  Buku Tulis         25000            100      2500000      250000.0\n",
       "1        Pena           700            200       140000       14000.0\n",
       "2   Penggaris          2500            300       750000       75000.0\n",
       "3     Printer         12000            400      4800000      480000.0"
      ]
     },
     "execution_count": 22,
     "metadata": {},
     "output_type": "execute_result"
    }
   ],
   "source": [
    "#pangggil data frame\n",
    "df"
   ]
  },
  {
   "cell_type": "markdown",
   "metadata": {},
   "source": [
    "## Menambah Kolom Harga Jual"
   ]
  },
  {
   "cell_type": "code",
   "execution_count": 24,
   "metadata": {},
   "outputs": [],
   "source": [
    "#menambahkan kolom harga jual\n",
    "df['Harga Jual'] = df['Total Harga'] - df['Discount 10%']"
   ]
  },
  {
   "cell_type": "code",
   "execution_count": 25,
   "metadata": {},
   "outputs": [
    {
     "data": {
      "text/html": [
       "<div>\n",
       "<style scoped>\n",
       "    .dataframe tbody tr th:only-of-type {\n",
       "        vertical-align: middle;\n",
       "    }\n",
       "\n",
       "    .dataframe tbody tr th {\n",
       "        vertical-align: top;\n",
       "    }\n",
       "\n",
       "    .dataframe thead th {\n",
       "        text-align: right;\n",
       "    }\n",
       "</style>\n",
       "<table border=\"1\" class=\"dataframe\">\n",
       "  <thead>\n",
       "    <tr style=\"text-align: right;\">\n",
       "      <th></th>\n",
       "      <th>Nama Barang</th>\n",
       "      <th>Harga Satuan</th>\n",
       "      <th>Jumlah Barang</th>\n",
       "      <th>Total Harga</th>\n",
       "      <th>Discount 10%</th>\n",
       "      <th>Harga Jual</th>\n",
       "    </tr>\n",
       "  </thead>\n",
       "  <tbody>\n",
       "    <tr>\n",
       "      <th>0</th>\n",
       "      <td>Buku Tulis</td>\n",
       "      <td>25000</td>\n",
       "      <td>100</td>\n",
       "      <td>2500000</td>\n",
       "      <td>250000.0</td>\n",
       "      <td>2250000.0</td>\n",
       "    </tr>\n",
       "    <tr>\n",
       "      <th>1</th>\n",
       "      <td>Pena</td>\n",
       "      <td>700</td>\n",
       "      <td>200</td>\n",
       "      <td>140000</td>\n",
       "      <td>14000.0</td>\n",
       "      <td>126000.0</td>\n",
       "    </tr>\n",
       "    <tr>\n",
       "      <th>2</th>\n",
       "      <td>Penggaris</td>\n",
       "      <td>2500</td>\n",
       "      <td>300</td>\n",
       "      <td>750000</td>\n",
       "      <td>75000.0</td>\n",
       "      <td>675000.0</td>\n",
       "    </tr>\n",
       "    <tr>\n",
       "      <th>3</th>\n",
       "      <td>Printer</td>\n",
       "      <td>12000</td>\n",
       "      <td>400</td>\n",
       "      <td>4800000</td>\n",
       "      <td>480000.0</td>\n",
       "      <td>4320000.0</td>\n",
       "    </tr>\n",
       "  </tbody>\n",
       "</table>\n",
       "</div>"
      ],
      "text/plain": [
       "  Nama Barang  Harga Satuan  Jumlah Barang  Total Harga  Discount 10%  \\\n",
       "0  Buku Tulis         25000            100      2500000      250000.0   \n",
       "1        Pena           700            200       140000       14000.0   \n",
       "2   Penggaris          2500            300       750000       75000.0   \n",
       "3     Printer         12000            400      4800000      480000.0   \n",
       "\n",
       "   Harga Jual  \n",
       "0   2250000.0  \n",
       "1    126000.0  \n",
       "2    675000.0  \n",
       "3   4320000.0  "
      ]
     },
     "execution_count": 25,
     "metadata": {},
     "output_type": "execute_result"
    }
   ],
   "source": [
    "df"
   ]
  },
  {
   "cell_type": "code",
   "execution_count": 26,
   "metadata": {},
   "outputs": [],
   "source": [
    "# Menghapus kolom\n",
    "# sebelum nya kita buat sebuah kolom dummy agar data kita tidak rusak\n",
    "df.insert(6, \"Penjual\", \"Sianu\")"
   ]
  },
  {
   "cell_type": "code",
   "execution_count": 27,
   "metadata": {},
   "outputs": [
    {
     "data": {
      "text/html": [
       "<div>\n",
       "<style scoped>\n",
       "    .dataframe tbody tr th:only-of-type {\n",
       "        vertical-align: middle;\n",
       "    }\n",
       "\n",
       "    .dataframe tbody tr th {\n",
       "        vertical-align: top;\n",
       "    }\n",
       "\n",
       "    .dataframe thead th {\n",
       "        text-align: right;\n",
       "    }\n",
       "</style>\n",
       "<table border=\"1\" class=\"dataframe\">\n",
       "  <thead>\n",
       "    <tr style=\"text-align: right;\">\n",
       "      <th></th>\n",
       "      <th>Nama Barang</th>\n",
       "      <th>Harga Satuan</th>\n",
       "      <th>Jumlah Barang</th>\n",
       "      <th>Total Harga</th>\n",
       "      <th>Discount 10%</th>\n",
       "      <th>Harga Jual</th>\n",
       "      <th>Penjual</th>\n",
       "    </tr>\n",
       "  </thead>\n",
       "  <tbody>\n",
       "    <tr>\n",
       "      <th>0</th>\n",
       "      <td>Buku Tulis</td>\n",
       "      <td>25000</td>\n",
       "      <td>100</td>\n",
       "      <td>2500000</td>\n",
       "      <td>250000.0</td>\n",
       "      <td>2250000.0</td>\n",
       "      <td>Sianu</td>\n",
       "    </tr>\n",
       "    <tr>\n",
       "      <th>1</th>\n",
       "      <td>Pena</td>\n",
       "      <td>700</td>\n",
       "      <td>200</td>\n",
       "      <td>140000</td>\n",
       "      <td>14000.0</td>\n",
       "      <td>126000.0</td>\n",
       "      <td>Sianu</td>\n",
       "    </tr>\n",
       "    <tr>\n",
       "      <th>2</th>\n",
       "      <td>Penggaris</td>\n",
       "      <td>2500</td>\n",
       "      <td>300</td>\n",
       "      <td>750000</td>\n",
       "      <td>75000.0</td>\n",
       "      <td>675000.0</td>\n",
       "      <td>Sianu</td>\n",
       "    </tr>\n",
       "    <tr>\n",
       "      <th>3</th>\n",
       "      <td>Printer</td>\n",
       "      <td>12000</td>\n",
       "      <td>400</td>\n",
       "      <td>4800000</td>\n",
       "      <td>480000.0</td>\n",
       "      <td>4320000.0</td>\n",
       "      <td>Sianu</td>\n",
       "    </tr>\n",
       "  </tbody>\n",
       "</table>\n",
       "</div>"
      ],
      "text/plain": [
       "  Nama Barang  Harga Satuan  Jumlah Barang  Total Harga  Discount 10%  \\\n",
       "0  Buku Tulis         25000            100      2500000      250000.0   \n",
       "1        Pena           700            200       140000       14000.0   \n",
       "2   Penggaris          2500            300       750000       75000.0   \n",
       "3     Printer         12000            400      4800000      480000.0   \n",
       "\n",
       "   Harga Jual Penjual  \n",
       "0   2250000.0   Sianu  \n",
       "1    126000.0   Sianu  \n",
       "2    675000.0   Sianu  \n",
       "3   4320000.0   Sianu  "
      ]
     },
     "execution_count": 27,
     "metadata": {},
     "output_type": "execute_result"
    }
   ],
   "source": [
    "df"
   ]
  },
  {
   "cell_type": "code",
   "execution_count": 28,
   "metadata": {},
   "outputs": [
    {
     "data": {
      "text/html": [
       "<div>\n",
       "<style scoped>\n",
       "    .dataframe tbody tr th:only-of-type {\n",
       "        vertical-align: middle;\n",
       "    }\n",
       "\n",
       "    .dataframe tbody tr th {\n",
       "        vertical-align: top;\n",
       "    }\n",
       "\n",
       "    .dataframe thead th {\n",
       "        text-align: right;\n",
       "    }\n",
       "</style>\n",
       "<table border=\"1\" class=\"dataframe\">\n",
       "  <thead>\n",
       "    <tr style=\"text-align: right;\">\n",
       "      <th></th>\n",
       "      <th>Nama Barang</th>\n",
       "      <th>Harga Satuan</th>\n",
       "      <th>Jumlah Barang</th>\n",
       "      <th>Total Harga</th>\n",
       "      <th>Discount 10%</th>\n",
       "      <th>Harga Jual</th>\n",
       "    </tr>\n",
       "  </thead>\n",
       "  <tbody>\n",
       "    <tr>\n",
       "      <th>0</th>\n",
       "      <td>Buku Tulis</td>\n",
       "      <td>25000</td>\n",
       "      <td>100</td>\n",
       "      <td>2500000</td>\n",
       "      <td>250000.0</td>\n",
       "      <td>2250000.0</td>\n",
       "    </tr>\n",
       "    <tr>\n",
       "      <th>1</th>\n",
       "      <td>Pena</td>\n",
       "      <td>700</td>\n",
       "      <td>200</td>\n",
       "      <td>140000</td>\n",
       "      <td>14000.0</td>\n",
       "      <td>126000.0</td>\n",
       "    </tr>\n",
       "    <tr>\n",
       "      <th>2</th>\n",
       "      <td>Penggaris</td>\n",
       "      <td>2500</td>\n",
       "      <td>300</td>\n",
       "      <td>750000</td>\n",
       "      <td>75000.0</td>\n",
       "      <td>675000.0</td>\n",
       "    </tr>\n",
       "    <tr>\n",
       "      <th>3</th>\n",
       "      <td>Printer</td>\n",
       "      <td>12000</td>\n",
       "      <td>400</td>\n",
       "      <td>4800000</td>\n",
       "      <td>480000.0</td>\n",
       "      <td>4320000.0</td>\n",
       "    </tr>\n",
       "  </tbody>\n",
       "</table>\n",
       "</div>"
      ],
      "text/plain": [
       "  Nama Barang  Harga Satuan  Jumlah Barang  Total Harga  Discount 10%  \\\n",
       "0  Buku Tulis         25000            100      2500000      250000.0   \n",
       "1        Pena           700            200       140000       14000.0   \n",
       "2   Penggaris          2500            300       750000       75000.0   \n",
       "3     Printer         12000            400      4800000      480000.0   \n",
       "\n",
       "   Harga Jual  \n",
       "0   2250000.0  \n",
       "1    126000.0  \n",
       "2    675000.0  \n",
       "3   4320000.0  "
      ]
     },
     "execution_count": 28,
     "metadata": {},
     "output_type": "execute_result"
    }
   ],
   "source": [
    "# hapus kolom penjual\n",
    "df.drop('Penjual', axis=1)"
   ]
  },
  {
   "cell_type": "code",
   "execution_count": 29,
   "metadata": {},
   "outputs": [
    {
     "data": {
      "text/html": [
       "<div>\n",
       "<style scoped>\n",
       "    .dataframe tbody tr th:only-of-type {\n",
       "        vertical-align: middle;\n",
       "    }\n",
       "\n",
       "    .dataframe tbody tr th {\n",
       "        vertical-align: top;\n",
       "    }\n",
       "\n",
       "    .dataframe thead th {\n",
       "        text-align: right;\n",
       "    }\n",
       "</style>\n",
       "<table border=\"1\" class=\"dataframe\">\n",
       "  <thead>\n",
       "    <tr style=\"text-align: right;\">\n",
       "      <th></th>\n",
       "      <th>Nama Barang</th>\n",
       "      <th>Harga Satuan</th>\n",
       "      <th>Jumlah Barang</th>\n",
       "      <th>Total Harga</th>\n",
       "      <th>Discount 10%</th>\n",
       "      <th>Harga Jual</th>\n",
       "      <th>Penjual</th>\n",
       "    </tr>\n",
       "  </thead>\n",
       "  <tbody>\n",
       "    <tr>\n",
       "      <th>0</th>\n",
       "      <td>Buku Tulis</td>\n",
       "      <td>25000</td>\n",
       "      <td>100</td>\n",
       "      <td>2500000</td>\n",
       "      <td>250000.0</td>\n",
       "      <td>2250000.0</td>\n",
       "      <td>Sianu</td>\n",
       "    </tr>\n",
       "    <tr>\n",
       "      <th>1</th>\n",
       "      <td>Pena</td>\n",
       "      <td>700</td>\n",
       "      <td>200</td>\n",
       "      <td>140000</td>\n",
       "      <td>14000.0</td>\n",
       "      <td>126000.0</td>\n",
       "      <td>Sianu</td>\n",
       "    </tr>\n",
       "    <tr>\n",
       "      <th>2</th>\n",
       "      <td>Penggaris</td>\n",
       "      <td>2500</td>\n",
       "      <td>300</td>\n",
       "      <td>750000</td>\n",
       "      <td>75000.0</td>\n",
       "      <td>675000.0</td>\n",
       "      <td>Sianu</td>\n",
       "    </tr>\n",
       "    <tr>\n",
       "      <th>3</th>\n",
       "      <td>Printer</td>\n",
       "      <td>12000</td>\n",
       "      <td>400</td>\n",
       "      <td>4800000</td>\n",
       "      <td>480000.0</td>\n",
       "      <td>4320000.0</td>\n",
       "      <td>Sianu</td>\n",
       "    </tr>\n",
       "  </tbody>\n",
       "</table>\n",
       "</div>"
      ],
      "text/plain": [
       "  Nama Barang  Harga Satuan  Jumlah Barang  Total Harga  Discount 10%  \\\n",
       "0  Buku Tulis         25000            100      2500000      250000.0   \n",
       "1        Pena           700            200       140000       14000.0   \n",
       "2   Penggaris          2500            300       750000       75000.0   \n",
       "3     Printer         12000            400      4800000      480000.0   \n",
       "\n",
       "   Harga Jual Penjual  \n",
       "0   2250000.0   Sianu  \n",
       "1    126000.0   Sianu  \n",
       "2    675000.0   Sianu  \n",
       "3   4320000.0   Sianu  "
      ]
     },
     "execution_count": 29,
     "metadata": {},
     "output_type": "execute_result"
    }
   ],
   "source": [
    "df"
   ]
  },
  {
   "cell_type": "code",
   "execution_count": 30,
   "metadata": {},
   "outputs": [],
   "source": [
    "#ternyata data penjual masih ada\n",
    "#kita hapus permanen dengan inplace"
   ]
  },
  {
   "cell_type": "code",
   "execution_count": 31,
   "metadata": {},
   "outputs": [],
   "source": [
    "df.drop('Penjual', axis=1, inplace=True)"
   ]
  },
  {
   "cell_type": "code",
   "execution_count": 32,
   "metadata": {},
   "outputs": [
    {
     "data": {
      "text/html": [
       "<div>\n",
       "<style scoped>\n",
       "    .dataframe tbody tr th:only-of-type {\n",
       "        vertical-align: middle;\n",
       "    }\n",
       "\n",
       "    .dataframe tbody tr th {\n",
       "        vertical-align: top;\n",
       "    }\n",
       "\n",
       "    .dataframe thead th {\n",
       "        text-align: right;\n",
       "    }\n",
       "</style>\n",
       "<table border=\"1\" class=\"dataframe\">\n",
       "  <thead>\n",
       "    <tr style=\"text-align: right;\">\n",
       "      <th></th>\n",
       "      <th>Nama Barang</th>\n",
       "      <th>Harga Satuan</th>\n",
       "      <th>Jumlah Barang</th>\n",
       "      <th>Total Harga</th>\n",
       "      <th>Discount 10%</th>\n",
       "      <th>Harga Jual</th>\n",
       "    </tr>\n",
       "  </thead>\n",
       "  <tbody>\n",
       "    <tr>\n",
       "      <th>0</th>\n",
       "      <td>Buku Tulis</td>\n",
       "      <td>25000</td>\n",
       "      <td>100</td>\n",
       "      <td>2500000</td>\n",
       "      <td>250000.0</td>\n",
       "      <td>2250000.0</td>\n",
       "    </tr>\n",
       "    <tr>\n",
       "      <th>1</th>\n",
       "      <td>Pena</td>\n",
       "      <td>700</td>\n",
       "      <td>200</td>\n",
       "      <td>140000</td>\n",
       "      <td>14000.0</td>\n",
       "      <td>126000.0</td>\n",
       "    </tr>\n",
       "    <tr>\n",
       "      <th>2</th>\n",
       "      <td>Penggaris</td>\n",
       "      <td>2500</td>\n",
       "      <td>300</td>\n",
       "      <td>750000</td>\n",
       "      <td>75000.0</td>\n",
       "      <td>675000.0</td>\n",
       "    </tr>\n",
       "    <tr>\n",
       "      <th>3</th>\n",
       "      <td>Printer</td>\n",
       "      <td>12000</td>\n",
       "      <td>400</td>\n",
       "      <td>4800000</td>\n",
       "      <td>480000.0</td>\n",
       "      <td>4320000.0</td>\n",
       "    </tr>\n",
       "  </tbody>\n",
       "</table>\n",
       "</div>"
      ],
      "text/plain": [
       "  Nama Barang  Harga Satuan  Jumlah Barang  Total Harga  Discount 10%  \\\n",
       "0  Buku Tulis         25000            100      2500000      250000.0   \n",
       "1        Pena           700            200       140000       14000.0   \n",
       "2   Penggaris          2500            300       750000       75000.0   \n",
       "3     Printer         12000            400      4800000      480000.0   \n",
       "\n",
       "   Harga Jual  \n",
       "0   2250000.0  \n",
       "1    126000.0  \n",
       "2    675000.0  \n",
       "3   4320000.0  "
      ]
     },
     "execution_count": 32,
     "metadata": {},
     "output_type": "execute_result"
    }
   ],
   "source": [
    "df"
   ]
  },
  {
   "cell_type": "markdown",
   "metadata": {},
   "source": [
    "## Menghapus Baris"
   ]
  },
  {
   "cell_type": "code",
   "execution_count": 35,
   "metadata": {},
   "outputs": [
    {
     "data": {
      "text/html": [
       "<div>\n",
       "<style scoped>\n",
       "    .dataframe tbody tr th:only-of-type {\n",
       "        vertical-align: middle;\n",
       "    }\n",
       "\n",
       "    .dataframe tbody tr th {\n",
       "        vertical-align: top;\n",
       "    }\n",
       "\n",
       "    .dataframe thead th {\n",
       "        text-align: right;\n",
       "    }\n",
       "</style>\n",
       "<table border=\"1\" class=\"dataframe\">\n",
       "  <thead>\n",
       "    <tr style=\"text-align: right;\">\n",
       "      <th></th>\n",
       "      <th>Nama Barang</th>\n",
       "      <th>Harga Satuan</th>\n",
       "      <th>Jumlah Barang</th>\n",
       "      <th>Total Harga</th>\n",
       "      <th>Discount 10%</th>\n",
       "      <th>Harga Jual</th>\n",
       "    </tr>\n",
       "  </thead>\n",
       "  <tbody>\n",
       "    <tr>\n",
       "      <th>0</th>\n",
       "      <td>Buku Tulis</td>\n",
       "      <td>25000</td>\n",
       "      <td>100</td>\n",
       "      <td>2500000</td>\n",
       "      <td>250000.0</td>\n",
       "      <td>2250000.0</td>\n",
       "    </tr>\n",
       "    <tr>\n",
       "      <th>1</th>\n",
       "      <td>Pena</td>\n",
       "      <td>700</td>\n",
       "      <td>200</td>\n",
       "      <td>140000</td>\n",
       "      <td>14000.0</td>\n",
       "      <td>126000.0</td>\n",
       "    </tr>\n",
       "    <tr>\n",
       "      <th>2</th>\n",
       "      <td>Penggaris</td>\n",
       "      <td>2500</td>\n",
       "      <td>300</td>\n",
       "      <td>750000</td>\n",
       "      <td>75000.0</td>\n",
       "      <td>675000.0</td>\n",
       "    </tr>\n",
       "    <tr>\n",
       "      <th>3</th>\n",
       "      <td>Printer</td>\n",
       "      <td>12000</td>\n",
       "      <td>400</td>\n",
       "      <td>4800000</td>\n",
       "      <td>480000.0</td>\n",
       "      <td>4320000.0</td>\n",
       "    </tr>\n",
       "  </tbody>\n",
       "</table>\n",
       "</div>"
      ],
      "text/plain": [
       "  Nama Barang  Harga Satuan  Jumlah Barang  Total Harga  Discount 10%  \\\n",
       "0  Buku Tulis         25000            100      2500000      250000.0   \n",
       "1        Pena           700            200       140000       14000.0   \n",
       "2   Penggaris          2500            300       750000       75000.0   \n",
       "3     Printer         12000            400      4800000      480000.0   \n",
       "\n",
       "   Harga Jual  \n",
       "0   2250000.0  \n",
       "1    126000.0  \n",
       "2    675000.0  \n",
       "3   4320000.0  "
      ]
     },
     "execution_count": 35,
     "metadata": {},
     "output_type": "execute_result"
    }
   ],
   "source": [
    "df"
   ]
  },
  {
   "cell_type": "code",
   "execution_count": 36,
   "metadata": {},
   "outputs": [
    {
     "data": {
      "text/html": [
       "<div>\n",
       "<style scoped>\n",
       "    .dataframe tbody tr th:only-of-type {\n",
       "        vertical-align: middle;\n",
       "    }\n",
       "\n",
       "    .dataframe tbody tr th {\n",
       "        vertical-align: top;\n",
       "    }\n",
       "\n",
       "    .dataframe thead th {\n",
       "        text-align: right;\n",
       "    }\n",
       "</style>\n",
       "<table border=\"1\" class=\"dataframe\">\n",
       "  <thead>\n",
       "    <tr style=\"text-align: right;\">\n",
       "      <th></th>\n",
       "      <th>Nama Barang</th>\n",
       "      <th>Harga Satuan</th>\n",
       "      <th>Jumlah Barang</th>\n",
       "      <th>Total Harga</th>\n",
       "      <th>Discount 10%</th>\n",
       "      <th>Harga Jual</th>\n",
       "    </tr>\n",
       "  </thead>\n",
       "  <tbody>\n",
       "    <tr>\n",
       "      <th>0</th>\n",
       "      <td>Buku Tulis</td>\n",
       "      <td>25000</td>\n",
       "      <td>100</td>\n",
       "      <td>2500000</td>\n",
       "      <td>250000.0</td>\n",
       "      <td>2250000.0</td>\n",
       "    </tr>\n",
       "    <tr>\n",
       "      <th>1</th>\n",
       "      <td>Pena</td>\n",
       "      <td>700</td>\n",
       "      <td>200</td>\n",
       "      <td>140000</td>\n",
       "      <td>14000.0</td>\n",
       "      <td>126000.0</td>\n",
       "    </tr>\n",
       "    <tr>\n",
       "      <th>3</th>\n",
       "      <td>Printer</td>\n",
       "      <td>12000</td>\n",
       "      <td>400</td>\n",
       "      <td>4800000</td>\n",
       "      <td>480000.0</td>\n",
       "      <td>4320000.0</td>\n",
       "    </tr>\n",
       "  </tbody>\n",
       "</table>\n",
       "</div>"
      ],
      "text/plain": [
       "  Nama Barang  Harga Satuan  Jumlah Barang  Total Harga  Discount 10%  \\\n",
       "0  Buku Tulis         25000            100      2500000      250000.0   \n",
       "1        Pena           700            200       140000       14000.0   \n",
       "3     Printer         12000            400      4800000      480000.0   \n",
       "\n",
       "   Harga Jual  \n",
       "0   2250000.0  \n",
       "1    126000.0  \n",
       "3   4320000.0  "
      ]
     },
     "execution_count": 36,
     "metadata": {},
     "output_type": "execute_result"
    }
   ],
   "source": [
    "df.drop(2)"
   ]
  },
  {
   "cell_type": "code",
   "execution_count": 37,
   "metadata": {},
   "outputs": [
    {
     "data": {
      "text/html": [
       "<div>\n",
       "<style scoped>\n",
       "    .dataframe tbody tr th:only-of-type {\n",
       "        vertical-align: middle;\n",
       "    }\n",
       "\n",
       "    .dataframe tbody tr th {\n",
       "        vertical-align: top;\n",
       "    }\n",
       "\n",
       "    .dataframe thead th {\n",
       "        text-align: right;\n",
       "    }\n",
       "</style>\n",
       "<table border=\"1\" class=\"dataframe\">\n",
       "  <thead>\n",
       "    <tr style=\"text-align: right;\">\n",
       "      <th></th>\n",
       "      <th>Nama Barang</th>\n",
       "      <th>Harga Satuan</th>\n",
       "      <th>Jumlah Barang</th>\n",
       "      <th>Total Harga</th>\n",
       "      <th>Discount 10%</th>\n",
       "      <th>Harga Jual</th>\n",
       "    </tr>\n",
       "  </thead>\n",
       "  <tbody>\n",
       "    <tr>\n",
       "      <th>0</th>\n",
       "      <td>Buku Tulis</td>\n",
       "      <td>25000</td>\n",
       "      <td>100</td>\n",
       "      <td>2500000</td>\n",
       "      <td>250000.0</td>\n",
       "      <td>2250000.0</td>\n",
       "    </tr>\n",
       "    <tr>\n",
       "      <th>1</th>\n",
       "      <td>Pena</td>\n",
       "      <td>700</td>\n",
       "      <td>200</td>\n",
       "      <td>140000</td>\n",
       "      <td>14000.0</td>\n",
       "      <td>126000.0</td>\n",
       "    </tr>\n",
       "    <tr>\n",
       "      <th>2</th>\n",
       "      <td>Penggaris</td>\n",
       "      <td>2500</td>\n",
       "      <td>300</td>\n",
       "      <td>750000</td>\n",
       "      <td>75000.0</td>\n",
       "      <td>675000.0</td>\n",
       "    </tr>\n",
       "    <tr>\n",
       "      <th>3</th>\n",
       "      <td>Printer</td>\n",
       "      <td>12000</td>\n",
       "      <td>400</td>\n",
       "      <td>4800000</td>\n",
       "      <td>480000.0</td>\n",
       "      <td>4320000.0</td>\n",
       "    </tr>\n",
       "  </tbody>\n",
       "</table>\n",
       "</div>"
      ],
      "text/plain": [
       "  Nama Barang  Harga Satuan  Jumlah Barang  Total Harga  Discount 10%  \\\n",
       "0  Buku Tulis         25000            100      2500000      250000.0   \n",
       "1        Pena           700            200       140000       14000.0   \n",
       "2   Penggaris          2500            300       750000       75000.0   \n",
       "3     Printer         12000            400      4800000      480000.0   \n",
       "\n",
       "   Harga Jual  \n",
       "0   2250000.0  \n",
       "1    126000.0  \n",
       "2    675000.0  \n",
       "3   4320000.0  "
      ]
     },
     "execution_count": 37,
     "metadata": {},
     "output_type": "execute_result"
    }
   ],
   "source": [
    "df"
   ]
  },
  {
   "cell_type": "code",
   "execution_count": 38,
   "metadata": {},
   "outputs": [],
   "source": [
    "# menghapus permanen"
   ]
  },
  {
   "cell_type": "code",
   "execution_count": 41,
   "metadata": {},
   "outputs": [
    {
     "data": {
      "text/html": [
       "<div>\n",
       "<style scoped>\n",
       "    .dataframe tbody tr th:only-of-type {\n",
       "        vertical-align: middle;\n",
       "    }\n",
       "\n",
       "    .dataframe tbody tr th {\n",
       "        vertical-align: top;\n",
       "    }\n",
       "\n",
       "    .dataframe thead th {\n",
       "        text-align: right;\n",
       "    }\n",
       "</style>\n",
       "<table border=\"1\" class=\"dataframe\">\n",
       "  <thead>\n",
       "    <tr style=\"text-align: right;\">\n",
       "      <th></th>\n",
       "      <th>Nama Barang</th>\n",
       "      <th>Harga Satuan</th>\n",
       "      <th>Jumlah Barang</th>\n",
       "      <th>Total Harga</th>\n",
       "      <th>Discount 10%</th>\n",
       "      <th>Harga Jual</th>\n",
       "    </tr>\n",
       "  </thead>\n",
       "  <tbody>\n",
       "    <tr>\n",
       "      <th>0</th>\n",
       "      <td>Buku Tulis</td>\n",
       "      <td>25000</td>\n",
       "      <td>100</td>\n",
       "      <td>2500000</td>\n",
       "      <td>250000.0</td>\n",
       "      <td>2250000.0</td>\n",
       "    </tr>\n",
       "    <tr>\n",
       "      <th>1</th>\n",
       "      <td>Pena</td>\n",
       "      <td>700</td>\n",
       "      <td>200</td>\n",
       "      <td>140000</td>\n",
       "      <td>14000.0</td>\n",
       "      <td>126000.0</td>\n",
       "    </tr>\n",
       "    <tr>\n",
       "      <th>3</th>\n",
       "      <td>Printer</td>\n",
       "      <td>12000</td>\n",
       "      <td>400</td>\n",
       "      <td>4800000</td>\n",
       "      <td>480000.0</td>\n",
       "      <td>4320000.0</td>\n",
       "    </tr>\n",
       "  </tbody>\n",
       "</table>\n",
       "</div>"
      ],
      "text/plain": [
       "  Nama Barang  Harga Satuan  Jumlah Barang  Total Harga  Discount 10%  \\\n",
       "0  Buku Tulis         25000            100      2500000      250000.0   \n",
       "1        Pena           700            200       140000       14000.0   \n",
       "3     Printer         12000            400      4800000      480000.0   \n",
       "\n",
       "   Harga Jual  \n",
       "0   2250000.0  \n",
       "1    126000.0  \n",
       "3   4320000.0  "
      ]
     },
     "execution_count": 41,
     "metadata": {},
     "output_type": "execute_result"
    }
   ],
   "source": [
    "df.drop(2, axis=0)"
   ]
  },
  {
   "cell_type": "code",
   "execution_count": 40,
   "metadata": {},
   "outputs": [
    {
     "data": {
      "text/html": [
       "<div>\n",
       "<style scoped>\n",
       "    .dataframe tbody tr th:only-of-type {\n",
       "        vertical-align: middle;\n",
       "    }\n",
       "\n",
       "    .dataframe tbody tr th {\n",
       "        vertical-align: top;\n",
       "    }\n",
       "\n",
       "    .dataframe thead th {\n",
       "        text-align: right;\n",
       "    }\n",
       "</style>\n",
       "<table border=\"1\" class=\"dataframe\">\n",
       "  <thead>\n",
       "    <tr style=\"text-align: right;\">\n",
       "      <th></th>\n",
       "      <th>Nama Barang</th>\n",
       "      <th>Harga Satuan</th>\n",
       "      <th>Jumlah Barang</th>\n",
       "      <th>Total Harga</th>\n",
       "      <th>Discount 10%</th>\n",
       "      <th>Harga Jual</th>\n",
       "    </tr>\n",
       "  </thead>\n",
       "  <tbody>\n",
       "    <tr>\n",
       "      <th>0</th>\n",
       "      <td>Buku Tulis</td>\n",
       "      <td>25000</td>\n",
       "      <td>100</td>\n",
       "      <td>2500000</td>\n",
       "      <td>250000.0</td>\n",
       "      <td>2250000.0</td>\n",
       "    </tr>\n",
       "    <tr>\n",
       "      <th>1</th>\n",
       "      <td>Pena</td>\n",
       "      <td>700</td>\n",
       "      <td>200</td>\n",
       "      <td>140000</td>\n",
       "      <td>14000.0</td>\n",
       "      <td>126000.0</td>\n",
       "    </tr>\n",
       "    <tr>\n",
       "      <th>2</th>\n",
       "      <td>Penggaris</td>\n",
       "      <td>2500</td>\n",
       "      <td>300</td>\n",
       "      <td>750000</td>\n",
       "      <td>75000.0</td>\n",
       "      <td>675000.0</td>\n",
       "    </tr>\n",
       "    <tr>\n",
       "      <th>3</th>\n",
       "      <td>Printer</td>\n",
       "      <td>12000</td>\n",
       "      <td>400</td>\n",
       "      <td>4800000</td>\n",
       "      <td>480000.0</td>\n",
       "      <td>4320000.0</td>\n",
       "    </tr>\n",
       "  </tbody>\n",
       "</table>\n",
       "</div>"
      ],
      "text/plain": [
       "  Nama Barang  Harga Satuan  Jumlah Barang  Total Harga  Discount 10%  \\\n",
       "0  Buku Tulis         25000            100      2500000      250000.0   \n",
       "1        Pena           700            200       140000       14000.0   \n",
       "2   Penggaris          2500            300       750000       75000.0   \n",
       "3     Printer         12000            400      4800000      480000.0   \n",
       "\n",
       "   Harga Jual  \n",
       "0   2250000.0  \n",
       "1    126000.0  \n",
       "2    675000.0  \n",
       "3   4320000.0  "
      ]
     },
     "execution_count": 40,
     "metadata": {},
     "output_type": "execute_result"
    }
   ],
   "source": [
    "df"
   ]
  },
  {
   "cell_type": "code",
   "execution_count": 42,
   "metadata": {},
   "outputs": [
    {
     "data": {
      "text/html": [
       "<div>\n",
       "<style scoped>\n",
       "    .dataframe tbody tr th:only-of-type {\n",
       "        vertical-align: middle;\n",
       "    }\n",
       "\n",
       "    .dataframe tbody tr th {\n",
       "        vertical-align: top;\n",
       "    }\n",
       "\n",
       "    .dataframe thead th {\n",
       "        text-align: right;\n",
       "    }\n",
       "</style>\n",
       "<table border=\"1\" class=\"dataframe\">\n",
       "  <thead>\n",
       "    <tr style=\"text-align: right;\">\n",
       "      <th></th>\n",
       "      <th>Nama Barang</th>\n",
       "      <th>Harga Satuan</th>\n",
       "      <th>Jumlah Barang</th>\n",
       "      <th>Total Harga</th>\n",
       "      <th>Discount 10%</th>\n",
       "      <th>Harga Jual</th>\n",
       "    </tr>\n",
       "  </thead>\n",
       "  <tbody>\n",
       "    <tr>\n",
       "      <th>0</th>\n",
       "      <td>Buku Tulis</td>\n",
       "      <td>25000</td>\n",
       "      <td>100</td>\n",
       "      <td>2500000</td>\n",
       "      <td>250000.0</td>\n",
       "      <td>2250000.0</td>\n",
       "    </tr>\n",
       "    <tr>\n",
       "      <th>1</th>\n",
       "      <td>Pena</td>\n",
       "      <td>700</td>\n",
       "      <td>200</td>\n",
       "      <td>140000</td>\n",
       "      <td>14000.0</td>\n",
       "      <td>126000.0</td>\n",
       "    </tr>\n",
       "    <tr>\n",
       "      <th>2</th>\n",
       "      <td>Penggaris</td>\n",
       "      <td>2500</td>\n",
       "      <td>300</td>\n",
       "      <td>750000</td>\n",
       "      <td>75000.0</td>\n",
       "      <td>675000.0</td>\n",
       "    </tr>\n",
       "    <tr>\n",
       "      <th>3</th>\n",
       "      <td>Printer</td>\n",
       "      <td>12000</td>\n",
       "      <td>400</td>\n",
       "      <td>4800000</td>\n",
       "      <td>480000.0</td>\n",
       "      <td>4320000.0</td>\n",
       "    </tr>\n",
       "  </tbody>\n",
       "</table>\n",
       "</div>"
      ],
      "text/plain": [
       "  Nama Barang  Harga Satuan  Jumlah Barang  Total Harga  Discount 10%  \\\n",
       "0  Buku Tulis         25000            100      2500000      250000.0   \n",
       "1        Pena           700            200       140000       14000.0   \n",
       "2   Penggaris          2500            300       750000       75000.0   \n",
       "3     Printer         12000            400      4800000      480000.0   \n",
       "\n",
       "   Harga Jual  \n",
       "0   2250000.0  \n",
       "1    126000.0  \n",
       "2    675000.0  \n",
       "3   4320000.0  "
      ]
     },
     "execution_count": 42,
     "metadata": {},
     "output_type": "execute_result"
    }
   ],
   "source": [
    "df"
   ]
  },
  {
   "cell_type": "markdown",
   "metadata": {},
   "source": [
    "## Menampilkan Kolom Tertentu"
   ]
  },
  {
   "cell_type": "code",
   "execution_count": 43,
   "metadata": {},
   "outputs": [],
   "source": [
    "# Menampilkan kolom nama barang saja"
   ]
  },
  {
   "cell_type": "code",
   "execution_count": 47,
   "metadata": {},
   "outputs": [
    {
     "data": {
      "text/plain": [
       "0    Buku Tulis\n",
       "1          Pena\n",
       "2     Penggaris\n",
       "3       Printer\n",
       "Name: Nama Barang, dtype: object"
      ]
     },
     "execution_count": 47,
     "metadata": {},
     "output_type": "execute_result"
    }
   ],
   "source": [
    "# df['namakolom']\n",
    "\n",
    "df['Nama Barang']"
   ]
  },
  {
   "cell_type": "code",
   "execution_count": 48,
   "metadata": {},
   "outputs": [],
   "source": [
    "# Menampilkan dengan banyak kolom"
   ]
  },
  {
   "cell_type": "code",
   "execution_count": 49,
   "metadata": {},
   "outputs": [
    {
     "data": {
      "text/html": [
       "<div>\n",
       "<style scoped>\n",
       "    .dataframe tbody tr th:only-of-type {\n",
       "        vertical-align: middle;\n",
       "    }\n",
       "\n",
       "    .dataframe tbody tr th {\n",
       "        vertical-align: top;\n",
       "    }\n",
       "\n",
       "    .dataframe thead th {\n",
       "        text-align: right;\n",
       "    }\n",
       "</style>\n",
       "<table border=\"1\" class=\"dataframe\">\n",
       "  <thead>\n",
       "    <tr style=\"text-align: right;\">\n",
       "      <th></th>\n",
       "      <th>Nama Barang</th>\n",
       "      <th>Harga Satuan</th>\n",
       "    </tr>\n",
       "  </thead>\n",
       "  <tbody>\n",
       "    <tr>\n",
       "      <th>0</th>\n",
       "      <td>Buku Tulis</td>\n",
       "      <td>25000</td>\n",
       "    </tr>\n",
       "    <tr>\n",
       "      <th>1</th>\n",
       "      <td>Pena</td>\n",
       "      <td>700</td>\n",
       "    </tr>\n",
       "    <tr>\n",
       "      <th>2</th>\n",
       "      <td>Penggaris</td>\n",
       "      <td>2500</td>\n",
       "    </tr>\n",
       "    <tr>\n",
       "      <th>3</th>\n",
       "      <td>Printer</td>\n",
       "      <td>12000</td>\n",
       "    </tr>\n",
       "  </tbody>\n",
       "</table>\n",
       "</div>"
      ],
      "text/plain": [
       "  Nama Barang  Harga Satuan\n",
       "0  Buku Tulis         25000\n",
       "1        Pena           700\n",
       "2   Penggaris          2500\n",
       "3     Printer         12000"
      ]
     },
     "execution_count": 49,
     "metadata": {},
     "output_type": "execute_result"
    }
   ],
   "source": [
    "df[['Nama Barang', 'Harga Satuan']]"
   ]
  },
  {
   "cell_type": "code",
   "execution_count": 52,
   "metadata": {},
   "outputs": [
    {
     "data": {
      "text/plain": [
       "Nama Barang      Penggaris\n",
       "Harga Satuan          2500\n",
       "Jumlah Barang          300\n",
       "Total Harga         750000\n",
       "Discount 10%         75000\n",
       "Harga Jual          675000\n",
       "Name: 2, dtype: object"
      ]
     },
     "execution_count": 52,
     "metadata": {},
     "output_type": "execute_result"
    }
   ],
   "source": [
    "df.loc[2]"
   ]
  },
  {
   "cell_type": "code",
   "execution_count": 53,
   "metadata": {},
   "outputs": [
    {
     "data": {
      "text/html": [
       "<div>\n",
       "<style scoped>\n",
       "    .dataframe tbody tr th:only-of-type {\n",
       "        vertical-align: middle;\n",
       "    }\n",
       "\n",
       "    .dataframe tbody tr th {\n",
       "        vertical-align: top;\n",
       "    }\n",
       "\n",
       "    .dataframe thead th {\n",
       "        text-align: right;\n",
       "    }\n",
       "</style>\n",
       "<table border=\"1\" class=\"dataframe\">\n",
       "  <thead>\n",
       "    <tr style=\"text-align: right;\">\n",
       "      <th></th>\n",
       "      <th>Nama Barang</th>\n",
       "      <th>Harga Satuan</th>\n",
       "      <th>Jumlah Barang</th>\n",
       "      <th>Total Harga</th>\n",
       "      <th>Discount 10%</th>\n",
       "      <th>Harga Jual</th>\n",
       "    </tr>\n",
       "  </thead>\n",
       "  <tbody>\n",
       "    <tr>\n",
       "      <th>0</th>\n",
       "      <td>Buku Tulis</td>\n",
       "      <td>25000</td>\n",
       "      <td>100</td>\n",
       "      <td>2500000</td>\n",
       "      <td>250000.0</td>\n",
       "      <td>2250000.0</td>\n",
       "    </tr>\n",
       "    <tr>\n",
       "      <th>1</th>\n",
       "      <td>Pena</td>\n",
       "      <td>700</td>\n",
       "      <td>200</td>\n",
       "      <td>140000</td>\n",
       "      <td>14000.0</td>\n",
       "      <td>126000.0</td>\n",
       "    </tr>\n",
       "    <tr>\n",
       "      <th>2</th>\n",
       "      <td>Penggaris</td>\n",
       "      <td>2500</td>\n",
       "      <td>300</td>\n",
       "      <td>750000</td>\n",
       "      <td>75000.0</td>\n",
       "      <td>675000.0</td>\n",
       "    </tr>\n",
       "    <tr>\n",
       "      <th>3</th>\n",
       "      <td>Printer</td>\n",
       "      <td>12000</td>\n",
       "      <td>400</td>\n",
       "      <td>4800000</td>\n",
       "      <td>480000.0</td>\n",
       "      <td>4320000.0</td>\n",
       "    </tr>\n",
       "  </tbody>\n",
       "</table>\n",
       "</div>"
      ],
      "text/plain": [
       "  Nama Barang  Harga Satuan  Jumlah Barang  Total Harga  Discount 10%  \\\n",
       "0  Buku Tulis         25000            100      2500000      250000.0   \n",
       "1        Pena           700            200       140000       14000.0   \n",
       "2   Penggaris          2500            300       750000       75000.0   \n",
       "3     Printer         12000            400      4800000      480000.0   \n",
       "\n",
       "   Harga Jual  \n",
       "0   2250000.0  \n",
       "1    126000.0  \n",
       "2    675000.0  \n",
       "3   4320000.0  "
      ]
     },
     "execution_count": 53,
     "metadata": {},
     "output_type": "execute_result"
    }
   ],
   "source": [
    "df"
   ]
  },
  {
   "cell_type": "code",
   "execution_count": 54,
   "metadata": {},
   "outputs": [
    {
     "data": {
      "text/plain": [
       "Nama Barang        Pena\n",
       "Harga Satuan        700\n",
       "Jumlah Barang       200\n",
       "Total Harga      140000\n",
       "Discount 10%      14000\n",
       "Harga Jual       126000\n",
       "Name: 1, dtype: object"
      ]
     },
     "execution_count": 54,
     "metadata": {},
     "output_type": "execute_result"
    }
   ],
   "source": [
    "# iloc\n",
    "\n",
    "df.iloc[1]"
   ]
  },
  {
   "cell_type": "code",
   "execution_count": 55,
   "metadata": {},
   "outputs": [
    {
     "data": {
      "text/plain": [
       "Nama Barang      Penggaris\n",
       "Harga Satuan          2500\n",
       "Jumlah Barang          300\n",
       "Total Harga         750000\n",
       "Discount 10%         75000\n",
       "Harga Jual          675000\n",
       "Name: 2, dtype: object"
      ]
     },
     "execution_count": 55,
     "metadata": {},
     "output_type": "execute_result"
    }
   ],
   "source": [
    "df.iloc[2]"
   ]
  },
  {
   "cell_type": "code",
   "execution_count": 64,
   "metadata": {},
   "outputs": [
    {
     "data": {
      "text/plain": [
       "Nama Barang      Penggaris\n",
       "Harga Satuan          2500\n",
       "Jumlah Barang          300\n",
       "Total Harga         750000\n",
       "Discount 10%         75000\n",
       "Harga Jual          675000\n",
       "Name: 2, dtype: object"
      ]
     },
     "execution_count": 64,
     "metadata": {},
     "output_type": "execute_result"
    }
   ],
   "source": [
    "df.iloc[2]"
   ]
  },
  {
   "cell_type": "code",
   "execution_count": 65,
   "metadata": {},
   "outputs": [],
   "source": [
    "# iloc dengan dataframe"
   ]
  },
  {
   "cell_type": "code",
   "execution_count": 67,
   "metadata": {},
   "outputs": [
    {
     "data": {
      "text/html": [
       "<div>\n",
       "<style scoped>\n",
       "    .dataframe tbody tr th:only-of-type {\n",
       "        vertical-align: middle;\n",
       "    }\n",
       "\n",
       "    .dataframe tbody tr th {\n",
       "        vertical-align: top;\n",
       "    }\n",
       "\n",
       "    .dataframe thead th {\n",
       "        text-align: right;\n",
       "    }\n",
       "</style>\n",
       "<table border=\"1\" class=\"dataframe\">\n",
       "  <thead>\n",
       "    <tr style=\"text-align: right;\">\n",
       "      <th></th>\n",
       "      <th>Nama Barang</th>\n",
       "      <th>Harga Satuan</th>\n",
       "      <th>Jumlah Barang</th>\n",
       "      <th>Total Harga</th>\n",
       "      <th>Discount 10%</th>\n",
       "      <th>Harga Jual</th>\n",
       "    </tr>\n",
       "  </thead>\n",
       "  <tbody>\n",
       "    <tr>\n",
       "      <th>0</th>\n",
       "      <td>Buku Tulis</td>\n",
       "      <td>25000</td>\n",
       "      <td>100</td>\n",
       "      <td>2500000</td>\n",
       "      <td>250000.0</td>\n",
       "      <td>2250000.0</td>\n",
       "    </tr>\n",
       "    <tr>\n",
       "      <th>1</th>\n",
       "      <td>Pena</td>\n",
       "      <td>700</td>\n",
       "      <td>200</td>\n",
       "      <td>140000</td>\n",
       "      <td>14000.0</td>\n",
       "      <td>126000.0</td>\n",
       "    </tr>\n",
       "  </tbody>\n",
       "</table>\n",
       "</div>"
      ],
      "text/plain": [
       "  Nama Barang  Harga Satuan  Jumlah Barang  Total Harga  Discount 10%  \\\n",
       "0  Buku Tulis         25000            100      2500000      250000.0   \n",
       "1        Pena           700            200       140000       14000.0   \n",
       "\n",
       "   Harga Jual  \n",
       "0   2250000.0  \n",
       "1    126000.0  "
      ]
     },
     "execution_count": 67,
     "metadata": {},
     "output_type": "execute_result"
    }
   ],
   "source": [
    "df.iloc[:2]"
   ]
  },
  {
   "cell_type": "code",
   "execution_count": 69,
   "metadata": {},
   "outputs": [
    {
     "data": {
      "text/plain": [
       "'Penggaris'"
      ]
     },
     "execution_count": 69,
     "metadata": {},
     "output_type": "execute_result"
    }
   ],
   "source": [
    "df.loc[2,'Nama Barang'] # menampilkan baris ke 2, kolom Barang"
   ]
  },
  {
   "cell_type": "code",
   "execution_count": 70,
   "metadata": {},
   "outputs": [
    {
     "data": {
      "text/html": [
       "<div>\n",
       "<style scoped>\n",
       "    .dataframe tbody tr th:only-of-type {\n",
       "        vertical-align: middle;\n",
       "    }\n",
       "\n",
       "    .dataframe tbody tr th {\n",
       "        vertical-align: top;\n",
       "    }\n",
       "\n",
       "    .dataframe thead th {\n",
       "        text-align: right;\n",
       "    }\n",
       "</style>\n",
       "<table border=\"1\" class=\"dataframe\">\n",
       "  <thead>\n",
       "    <tr style=\"text-align: right;\">\n",
       "      <th></th>\n",
       "      <th>Nama Barang</th>\n",
       "      <th>Harga Satuan</th>\n",
       "      <th>Jumlah Barang</th>\n",
       "      <th>Total Harga</th>\n",
       "      <th>Discount 10%</th>\n",
       "      <th>Harga Jual</th>\n",
       "    </tr>\n",
       "  </thead>\n",
       "  <tbody>\n",
       "    <tr>\n",
       "      <th>0</th>\n",
       "      <td>Buku Tulis</td>\n",
       "      <td>25000</td>\n",
       "      <td>100</td>\n",
       "      <td>2500000</td>\n",
       "      <td>250000.0</td>\n",
       "      <td>2250000.0</td>\n",
       "    </tr>\n",
       "    <tr>\n",
       "      <th>1</th>\n",
       "      <td>Pena</td>\n",
       "      <td>700</td>\n",
       "      <td>200</td>\n",
       "      <td>140000</td>\n",
       "      <td>14000.0</td>\n",
       "      <td>126000.0</td>\n",
       "    </tr>\n",
       "    <tr>\n",
       "      <th>2</th>\n",
       "      <td>Penggaris</td>\n",
       "      <td>2500</td>\n",
       "      <td>300</td>\n",
       "      <td>750000</td>\n",
       "      <td>75000.0</td>\n",
       "      <td>675000.0</td>\n",
       "    </tr>\n",
       "    <tr>\n",
       "      <th>3</th>\n",
       "      <td>Printer</td>\n",
       "      <td>12000</td>\n",
       "      <td>400</td>\n",
       "      <td>4800000</td>\n",
       "      <td>480000.0</td>\n",
       "      <td>4320000.0</td>\n",
       "    </tr>\n",
       "  </tbody>\n",
       "</table>\n",
       "</div>"
      ],
      "text/plain": [
       "  Nama Barang  Harga Satuan  Jumlah Barang  Total Harga  Discount 10%  \\\n",
       "0  Buku Tulis         25000            100      2500000      250000.0   \n",
       "1        Pena           700            200       140000       14000.0   \n",
       "2   Penggaris          2500            300       750000       75000.0   \n",
       "3     Printer         12000            400      4800000      480000.0   \n",
       "\n",
       "   Harga Jual  \n",
       "0   2250000.0  \n",
       "1    126000.0  \n",
       "2    675000.0  \n",
       "3   4320000.0  "
      ]
     },
     "execution_count": 70,
     "metadata": {},
     "output_type": "execute_result"
    }
   ],
   "source": [
    "df"
   ]
  },
  {
   "cell_type": "code",
   "execution_count": 71,
   "metadata": {},
   "outputs": [
    {
     "data": {
      "text/html": [
       "<div>\n",
       "<style scoped>\n",
       "    .dataframe tbody tr th:only-of-type {\n",
       "        vertical-align: middle;\n",
       "    }\n",
       "\n",
       "    .dataframe tbody tr th {\n",
       "        vertical-align: top;\n",
       "    }\n",
       "\n",
       "    .dataframe thead th {\n",
       "        text-align: right;\n",
       "    }\n",
       "</style>\n",
       "<table border=\"1\" class=\"dataframe\">\n",
       "  <thead>\n",
       "    <tr style=\"text-align: right;\">\n",
       "      <th></th>\n",
       "      <th>Nama Barang</th>\n",
       "      <th>Harga Satuan</th>\n",
       "      <th>Jumlah Barang</th>\n",
       "      <th>Total Harga</th>\n",
       "      <th>Discount 10%</th>\n",
       "      <th>Harga Jual</th>\n",
       "    </tr>\n",
       "  </thead>\n",
       "  <tbody>\n",
       "    <tr>\n",
       "      <th>0</th>\n",
       "      <td>Buku Tulis</td>\n",
       "      <td>25000</td>\n",
       "      <td>100</td>\n",
       "      <td>2500000</td>\n",
       "      <td>250000.0</td>\n",
       "      <td>2250000.0</td>\n",
       "    </tr>\n",
       "  </tbody>\n",
       "</table>\n",
       "</div>"
      ],
      "text/plain": [
       "  Nama Barang  Harga Satuan  Jumlah Barang  Total Harga  Discount 10%  \\\n",
       "0  Buku Tulis         25000            100      2500000      250000.0   \n",
       "\n",
       "   Harga Jual  \n",
       "0   2250000.0  "
      ]
     },
     "execution_count": 71,
     "metadata": {},
     "output_type": "execute_result"
    }
   ],
   "source": [
    "# menampilkan nama barang dari buku tulis dari data barang\n",
    "#select * from namabarang where namabarang = 'buku tulis'\n",
    "\n",
    "df.loc[df['Nama Barang'] == 'Buku Tulis']"
   ]
  },
  {
   "cell_type": "code",
   "execution_count": 72,
   "metadata": {},
   "outputs": [
    {
     "data": {
      "text/html": [
       "<div>\n",
       "<style scoped>\n",
       "    .dataframe tbody tr th:only-of-type {\n",
       "        vertical-align: middle;\n",
       "    }\n",
       "\n",
       "    .dataframe tbody tr th {\n",
       "        vertical-align: top;\n",
       "    }\n",
       "\n",
       "    .dataframe thead th {\n",
       "        text-align: right;\n",
       "    }\n",
       "</style>\n",
       "<table border=\"1\" class=\"dataframe\">\n",
       "  <thead>\n",
       "    <tr style=\"text-align: right;\">\n",
       "      <th></th>\n",
       "      <th>Nama Barang</th>\n",
       "      <th>Harga Satuan</th>\n",
       "      <th>Jumlah Barang</th>\n",
       "      <th>Total Harga</th>\n",
       "      <th>Discount 10%</th>\n",
       "      <th>Harga Jual</th>\n",
       "    </tr>\n",
       "  </thead>\n",
       "  <tbody>\n",
       "    <tr>\n",
       "      <th>0</th>\n",
       "      <td>Buku Tulis</td>\n",
       "      <td>25000</td>\n",
       "      <td>100</td>\n",
       "      <td>2500000</td>\n",
       "      <td>250000.0</td>\n",
       "      <td>2250000.0</td>\n",
       "    </tr>\n",
       "    <tr>\n",
       "      <th>1</th>\n",
       "      <td>Pena</td>\n",
       "      <td>700</td>\n",
       "      <td>200</td>\n",
       "      <td>140000</td>\n",
       "      <td>14000.0</td>\n",
       "      <td>126000.0</td>\n",
       "    </tr>\n",
       "    <tr>\n",
       "      <th>2</th>\n",
       "      <td>Penggaris</td>\n",
       "      <td>2500</td>\n",
       "      <td>300</td>\n",
       "      <td>750000</td>\n",
       "      <td>75000.0</td>\n",
       "      <td>675000.0</td>\n",
       "    </tr>\n",
       "    <tr>\n",
       "      <th>3</th>\n",
       "      <td>Printer</td>\n",
       "      <td>12000</td>\n",
       "      <td>400</td>\n",
       "      <td>4800000</td>\n",
       "      <td>480000.0</td>\n",
       "      <td>4320000.0</td>\n",
       "    </tr>\n",
       "  </tbody>\n",
       "</table>\n",
       "</div>"
      ],
      "text/plain": [
       "  Nama Barang  Harga Satuan  Jumlah Barang  Total Harga  Discount 10%  \\\n",
       "0  Buku Tulis         25000            100      2500000      250000.0   \n",
       "1        Pena           700            200       140000       14000.0   \n",
       "2   Penggaris          2500            300       750000       75000.0   \n",
       "3     Printer         12000            400      4800000      480000.0   \n",
       "\n",
       "   Harga Jual  \n",
       "0   2250000.0  \n",
       "1    126000.0  \n",
       "2    675000.0  \n",
       "3   4320000.0  "
      ]
     },
     "execution_count": 72,
     "metadata": {},
     "output_type": "execute_result"
    }
   ],
   "source": [
    "df"
   ]
  },
  {
   "cell_type": "markdown",
   "metadata": {},
   "source": [
    "## Simpan data ke CSV"
   ]
  },
  {
   "cell_type": "code",
   "execution_count": 73,
   "metadata": {},
   "outputs": [],
   "source": [
    "df.to_csv('data_barang.csv', index = False, header=True)"
   ]
  },
  {
   "cell_type": "markdown",
   "metadata": {},
   "source": [
    "## Panggil file CSV"
   ]
  },
  {
   "cell_type": "code",
   "execution_count": 74,
   "metadata": {},
   "outputs": [],
   "source": [
    "data = pd.read_csv('data_barang.csv')"
   ]
  },
  {
   "cell_type": "code",
   "execution_count": 75,
   "metadata": {},
   "outputs": [
    {
     "data": {
      "text/html": [
       "<div>\n",
       "<style scoped>\n",
       "    .dataframe tbody tr th:only-of-type {\n",
       "        vertical-align: middle;\n",
       "    }\n",
       "\n",
       "    .dataframe tbody tr th {\n",
       "        vertical-align: top;\n",
       "    }\n",
       "\n",
       "    .dataframe thead th {\n",
       "        text-align: right;\n",
       "    }\n",
       "</style>\n",
       "<table border=\"1\" class=\"dataframe\">\n",
       "  <thead>\n",
       "    <tr style=\"text-align: right;\">\n",
       "      <th></th>\n",
       "      <th>Nama Barang</th>\n",
       "      <th>Harga Satuan</th>\n",
       "      <th>Jumlah Barang</th>\n",
       "      <th>Total Harga</th>\n",
       "      <th>Discount 10%</th>\n",
       "      <th>Harga Jual</th>\n",
       "    </tr>\n",
       "  </thead>\n",
       "  <tbody>\n",
       "    <tr>\n",
       "      <th>0</th>\n",
       "      <td>Buku Tulis</td>\n",
       "      <td>25000</td>\n",
       "      <td>100</td>\n",
       "      <td>2500000</td>\n",
       "      <td>250000.0</td>\n",
       "      <td>2250000.0</td>\n",
       "    </tr>\n",
       "    <tr>\n",
       "      <th>1</th>\n",
       "      <td>Pena</td>\n",
       "      <td>700</td>\n",
       "      <td>200</td>\n",
       "      <td>140000</td>\n",
       "      <td>14000.0</td>\n",
       "      <td>126000.0</td>\n",
       "    </tr>\n",
       "    <tr>\n",
       "      <th>2</th>\n",
       "      <td>Penggaris</td>\n",
       "      <td>2500</td>\n",
       "      <td>300</td>\n",
       "      <td>750000</td>\n",
       "      <td>75000.0</td>\n",
       "      <td>675000.0</td>\n",
       "    </tr>\n",
       "    <tr>\n",
       "      <th>3</th>\n",
       "      <td>Printer</td>\n",
       "      <td>12000</td>\n",
       "      <td>400</td>\n",
       "      <td>4800000</td>\n",
       "      <td>480000.0</td>\n",
       "      <td>4320000.0</td>\n",
       "    </tr>\n",
       "  </tbody>\n",
       "</table>\n",
       "</div>"
      ],
      "text/plain": [
       "  Nama Barang  Harga Satuan  Jumlah Barang  Total Harga  Discount 10%  \\\n",
       "0  Buku Tulis         25000            100      2500000      250000.0   \n",
       "1        Pena           700            200       140000       14000.0   \n",
       "2   Penggaris          2500            300       750000       75000.0   \n",
       "3     Printer         12000            400      4800000      480000.0   \n",
       "\n",
       "   Harga Jual  \n",
       "0   2250000.0  \n",
       "1    126000.0  \n",
       "2    675000.0  \n",
       "3   4320000.0  "
      ]
     },
     "execution_count": 75,
     "metadata": {},
     "output_type": "execute_result"
    }
   ],
   "source": [
    "## tampilkan datanya\n",
    "\n",
    "data"
   ]
  },
  {
   "cell_type": "markdown",
   "metadata": {},
   "source": [
    "## Simpan ke Excel\n"
   ]
  },
  {
   "cell_type": "code",
   "execution_count": 76,
   "metadata": {},
   "outputs": [
    {
     "data": {
      "text/html": [
       "<div>\n",
       "<style scoped>\n",
       "    .dataframe tbody tr th:only-of-type {\n",
       "        vertical-align: middle;\n",
       "    }\n",
       "\n",
       "    .dataframe tbody tr th {\n",
       "        vertical-align: top;\n",
       "    }\n",
       "\n",
       "    .dataframe thead th {\n",
       "        text-align: right;\n",
       "    }\n",
       "</style>\n",
       "<table border=\"1\" class=\"dataframe\">\n",
       "  <thead>\n",
       "    <tr style=\"text-align: right;\">\n",
       "      <th></th>\n",
       "      <th>Nama Barang</th>\n",
       "      <th>Harga Satuan</th>\n",
       "      <th>Jumlah Barang</th>\n",
       "      <th>Total Harga</th>\n",
       "      <th>Discount 10%</th>\n",
       "      <th>Harga Jual</th>\n",
       "    </tr>\n",
       "  </thead>\n",
       "  <tbody>\n",
       "    <tr>\n",
       "      <th>0</th>\n",
       "      <td>Buku Tulis</td>\n",
       "      <td>25000</td>\n",
       "      <td>100</td>\n",
       "      <td>2500000</td>\n",
       "      <td>250000.0</td>\n",
       "      <td>2250000.0</td>\n",
       "    </tr>\n",
       "    <tr>\n",
       "      <th>1</th>\n",
       "      <td>Pena</td>\n",
       "      <td>700</td>\n",
       "      <td>200</td>\n",
       "      <td>140000</td>\n",
       "      <td>14000.0</td>\n",
       "      <td>126000.0</td>\n",
       "    </tr>\n",
       "    <tr>\n",
       "      <th>2</th>\n",
       "      <td>Penggaris</td>\n",
       "      <td>2500</td>\n",
       "      <td>300</td>\n",
       "      <td>750000</td>\n",
       "      <td>75000.0</td>\n",
       "      <td>675000.0</td>\n",
       "    </tr>\n",
       "    <tr>\n",
       "      <th>3</th>\n",
       "      <td>Printer</td>\n",
       "      <td>12000</td>\n",
       "      <td>400</td>\n",
       "      <td>4800000</td>\n",
       "      <td>480000.0</td>\n",
       "      <td>4320000.0</td>\n",
       "    </tr>\n",
       "  </tbody>\n",
       "</table>\n",
       "</div>"
      ],
      "text/plain": [
       "  Nama Barang  Harga Satuan  Jumlah Barang  Total Harga  Discount 10%  \\\n",
       "0  Buku Tulis         25000            100      2500000      250000.0   \n",
       "1        Pena           700            200       140000       14000.0   \n",
       "2   Penggaris          2500            300       750000       75000.0   \n",
       "3     Printer         12000            400      4800000      480000.0   \n",
       "\n",
       "   Harga Jual  \n",
       "0   2250000.0  \n",
       "1    126000.0  \n",
       "2    675000.0  \n",
       "3   4320000.0  "
      ]
     },
     "execution_count": 76,
     "metadata": {},
     "output_type": "execute_result"
    }
   ],
   "source": [
    "df"
   ]
  },
  {
   "cell_type": "code",
   "execution_count": 77,
   "metadata": {},
   "outputs": [],
   "source": [
    "df.to_excel('data_barang.xlsx')"
   ]
  },
  {
   "cell_type": "code",
   "execution_count": 78,
   "metadata": {},
   "outputs": [],
   "source": [
    "## membaca data excel"
   ]
  },
  {
   "cell_type": "code",
   "execution_count": 79,
   "metadata": {},
   "outputs": [],
   "source": [
    "xlsx = pd.read_excel('data_barang.xlsx')"
   ]
  },
  {
   "cell_type": "code",
   "execution_count": 80,
   "metadata": {},
   "outputs": [
    {
     "data": {
      "text/html": [
       "<div>\n",
       "<style scoped>\n",
       "    .dataframe tbody tr th:only-of-type {\n",
       "        vertical-align: middle;\n",
       "    }\n",
       "\n",
       "    .dataframe tbody tr th {\n",
       "        vertical-align: top;\n",
       "    }\n",
       "\n",
       "    .dataframe thead th {\n",
       "        text-align: right;\n",
       "    }\n",
       "</style>\n",
       "<table border=\"1\" class=\"dataframe\">\n",
       "  <thead>\n",
       "    <tr style=\"text-align: right;\">\n",
       "      <th></th>\n",
       "      <th>Unnamed: 0</th>\n",
       "      <th>Nama Barang</th>\n",
       "      <th>Harga Satuan</th>\n",
       "      <th>Jumlah Barang</th>\n",
       "      <th>Total Harga</th>\n",
       "      <th>Discount 10%</th>\n",
       "      <th>Harga Jual</th>\n",
       "    </tr>\n",
       "  </thead>\n",
       "  <tbody>\n",
       "    <tr>\n",
       "      <th>0</th>\n",
       "      <td>0</td>\n",
       "      <td>Buku Tulis</td>\n",
       "      <td>25000</td>\n",
       "      <td>100</td>\n",
       "      <td>2500000</td>\n",
       "      <td>250000</td>\n",
       "      <td>2250000</td>\n",
       "    </tr>\n",
       "    <tr>\n",
       "      <th>1</th>\n",
       "      <td>1</td>\n",
       "      <td>Pena</td>\n",
       "      <td>700</td>\n",
       "      <td>200</td>\n",
       "      <td>140000</td>\n",
       "      <td>14000</td>\n",
       "      <td>126000</td>\n",
       "    </tr>\n",
       "    <tr>\n",
       "      <th>2</th>\n",
       "      <td>2</td>\n",
       "      <td>Penggaris</td>\n",
       "      <td>2500</td>\n",
       "      <td>300</td>\n",
       "      <td>750000</td>\n",
       "      <td>75000</td>\n",
       "      <td>675000</td>\n",
       "    </tr>\n",
       "    <tr>\n",
       "      <th>3</th>\n",
       "      <td>3</td>\n",
       "      <td>Printer</td>\n",
       "      <td>12000</td>\n",
       "      <td>400</td>\n",
       "      <td>4800000</td>\n",
       "      <td>480000</td>\n",
       "      <td>4320000</td>\n",
       "    </tr>\n",
       "  </tbody>\n",
       "</table>\n",
       "</div>"
      ],
      "text/plain": [
       "   Unnamed: 0 Nama Barang  Harga Satuan  Jumlah Barang  Total Harga  \\\n",
       "0           0  Buku Tulis         25000            100      2500000   \n",
       "1           1        Pena           700            200       140000   \n",
       "2           2   Penggaris          2500            300       750000   \n",
       "3           3     Printer         12000            400      4800000   \n",
       "\n",
       "   Discount 10%  Harga Jual  \n",
       "0        250000     2250000  \n",
       "1         14000      126000  \n",
       "2         75000      675000  \n",
       "3        480000     4320000  "
      ]
     },
     "execution_count": 80,
     "metadata": {},
     "output_type": "execute_result"
    }
   ],
   "source": [
    "xlsx"
   ]
  },
  {
   "cell_type": "code",
   "execution_count": 81,
   "metadata": {},
   "outputs": [],
   "source": [
    "df.to_excel('databarang1.xlsx', index = False, header=True)"
   ]
  },
  {
   "cell_type": "code",
   "execution_count": 82,
   "metadata": {},
   "outputs": [],
   "source": [
    "dataEx = pd.read_excel('databarang1.xlsx')"
   ]
  },
  {
   "cell_type": "code",
   "execution_count": 83,
   "metadata": {},
   "outputs": [
    {
     "data": {
      "text/html": [
       "<div>\n",
       "<style scoped>\n",
       "    .dataframe tbody tr th:only-of-type {\n",
       "        vertical-align: middle;\n",
       "    }\n",
       "\n",
       "    .dataframe tbody tr th {\n",
       "        vertical-align: top;\n",
       "    }\n",
       "\n",
       "    .dataframe thead th {\n",
       "        text-align: right;\n",
       "    }\n",
       "</style>\n",
       "<table border=\"1\" class=\"dataframe\">\n",
       "  <thead>\n",
       "    <tr style=\"text-align: right;\">\n",
       "      <th></th>\n",
       "      <th>Nama Barang</th>\n",
       "      <th>Harga Satuan</th>\n",
       "      <th>Jumlah Barang</th>\n",
       "      <th>Total Harga</th>\n",
       "      <th>Discount 10%</th>\n",
       "      <th>Harga Jual</th>\n",
       "    </tr>\n",
       "  </thead>\n",
       "  <tbody>\n",
       "    <tr>\n",
       "      <th>0</th>\n",
       "      <td>Buku Tulis</td>\n",
       "      <td>25000</td>\n",
       "      <td>100</td>\n",
       "      <td>2500000</td>\n",
       "      <td>250000</td>\n",
       "      <td>2250000</td>\n",
       "    </tr>\n",
       "    <tr>\n",
       "      <th>1</th>\n",
       "      <td>Pena</td>\n",
       "      <td>700</td>\n",
       "      <td>200</td>\n",
       "      <td>140000</td>\n",
       "      <td>14000</td>\n",
       "      <td>126000</td>\n",
       "    </tr>\n",
       "    <tr>\n",
       "      <th>2</th>\n",
       "      <td>Penggaris</td>\n",
       "      <td>2500</td>\n",
       "      <td>300</td>\n",
       "      <td>750000</td>\n",
       "      <td>75000</td>\n",
       "      <td>675000</td>\n",
       "    </tr>\n",
       "    <tr>\n",
       "      <th>3</th>\n",
       "      <td>Printer</td>\n",
       "      <td>12000</td>\n",
       "      <td>400</td>\n",
       "      <td>4800000</td>\n",
       "      <td>480000</td>\n",
       "      <td>4320000</td>\n",
       "    </tr>\n",
       "  </tbody>\n",
       "</table>\n",
       "</div>"
      ],
      "text/plain": [
       "  Nama Barang  Harga Satuan  Jumlah Barang  Total Harga  Discount 10%  \\\n",
       "0  Buku Tulis         25000            100      2500000        250000   \n",
       "1        Pena           700            200       140000         14000   \n",
       "2   Penggaris          2500            300       750000         75000   \n",
       "3     Printer         12000            400      4800000        480000   \n",
       "\n",
       "   Harga Jual  \n",
       "0     2250000  \n",
       "1      126000  \n",
       "2      675000  \n",
       "3     4320000  "
      ]
     },
     "execution_count": 83,
     "metadata": {},
     "output_type": "execute_result"
    }
   ],
   "source": [
    "dataEx"
   ]
  },
  {
   "cell_type": "code",
   "execution_count": null,
   "metadata": {},
   "outputs": [],
   "source": []
  }
 ],
 "metadata": {
  "kernelspec": {
   "display_name": "Python 3",
   "language": "python",
   "name": "python3"
  },
  "language_info": {
   "codemirror_mode": {
    "name": "ipython",
    "version": 3
   },
   "file_extension": ".py",
   "mimetype": "text/x-python",
   "name": "python",
   "nbconvert_exporter": "python",
   "pygments_lexer": "ipython3",
   "version": "3.8.5"
  }
 },
 "nbformat": 4,
 "nbformat_minor": 4
}
